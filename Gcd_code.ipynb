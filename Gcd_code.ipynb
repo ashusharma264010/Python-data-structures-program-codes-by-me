{
  "nbformat": 4,
  "nbformat_minor": 0,
  "metadata": {
    "colab": {
      "name": "Gcd code.ipynb",
      "provenance": [],
      "collapsed_sections": [],
      "authorship_tag": "ABX9TyMPMOe+IXSRI7nVGVF1kQwp",
      "include_colab_link": true
    },
    "kernelspec": {
      "name": "python3",
      "display_name": "Python 3"
    },
    "language_info": {
      "name": "python"
    }
  },
  "cells": [
    {
      "cell_type": "markdown",
      "metadata": {
        "id": "view-in-github",
        "colab_type": "text"
      },
      "source": [
        "<a href=\"https://colab.research.google.com/github/ashusharma264010/Python-data-structures-program-codes-by-me/blob/main/Gcd_code.ipynb\" target=\"_parent\"><img src=\"https://colab.research.google.com/assets/colab-badge.svg\" alt=\"Open In Colab\"/></a>"
      ]
    },
    {
      "cell_type": "code",
      "execution_count": null,
      "metadata": {
        "id": "GMQSRyVY3W2X"
      },
      "outputs": [],
      "source": [
        "def gcd(m,n):\n",
        "  cf= []\n",
        "  for i in range(1,min(m,n)+1):\n",
        "    if(m%i)==0 and (n%i)==0:\n",
        "      cf.append(i)\n",
        "  return(cf[-1])"
      ]
    },
    {
      "cell_type": "code",
      "source": [
        "gcd(10,25)"
      ],
      "metadata": {
        "colab": {
          "base_uri": "https://localhost:8080/"
        },
        "id": "UN8Vh9sh5JVY",
        "outputId": "ad87be68-7b71-4159-c55e-4ee54f26692b"
      },
      "execution_count": null,
      "outputs": [
        {
          "output_type": "execute_result",
          "data": {
            "text/plain": [
              "5"
            ]
          },
          "metadata": {},
          "execution_count": 5
        }
      ]
    }
  ]
}