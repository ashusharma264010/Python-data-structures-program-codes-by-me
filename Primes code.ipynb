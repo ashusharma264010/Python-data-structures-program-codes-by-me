{
  "nbformat": 4,
  "nbformat_minor": 0,
  "metadata": {
    "colab": {
      "name": "Untitled1.ipynb",
      "provenance": [],
      "authorship_tag": "ABX9TyO+N7U+jQaIdL3BSAmwjxB4",
      "include_colab_link": true
    },
    "kernelspec": {
      "name": "python3",
      "display_name": "Python 3"
    },
    "language_info": {
      "name": "python"
    }
  },
  "cells": [
    {
      "cell_type": "markdown",
      "metadata": {
        "id": "view-in-github",
        "colab_type": "text"
      },
      "source": [
        "<a href=\"https://colab.research.google.com/github/ashusharma264010/Python-data-structures-program-codes-by-me/blob/main/Primes%20code.ipynb\" target=\"_parent\"><img src=\"https://colab.research.google.com/assets/colab-badge.svg\" alt=\"Open In Colab\"/></a>"
      ]
    },
    {
      "cell_type": "markdown",
      "source": [
        "### Code for Factors\n"
      ],
      "metadata": {
        "id": "J3JbGY8e7m9q"
      }
    },
    {
      "cell_type": "code",
      "execution_count": 1,
      "metadata": {
        "id": "d-7wudEN7bjk"
      },
      "outputs": [],
      "source": [
        "def factors(n):\n",
        "  fl= []\n",
        "  for i in range(1,n+1):\n",
        "    if(n%i)==0:\n",
        "      fl.append(i)\n",
        "  return(fl)"
      ]
    },
    {
      "cell_type": "markdown",
      "source": [
        "### Code for Prime"
      ],
      "metadata": {
        "id": "RrzSvNYZ8PWH"
      }
    },
    {
      "cell_type": "code",
      "source": [
        "def prime(n):\n",
        "  return(factors(n)== [1,n])"
      ],
      "metadata": {
        "id": "zMaiMBOb8Aca"
      },
      "execution_count": 2,
      "outputs": []
    },
    {
      "cell_type": "code",
      "source": [
        "prime(898210389)"
      ],
      "metadata": {
        "colab": {
          "base_uri": "https://localhost:8080/"
        },
        "id": "Futnaenl9hb6",
        "outputId": "be76c90e-8155-496e-d710-43414de9a98d"
      },
      "execution_count": 15,
      "outputs": [
        {
          "output_type": "execute_result",
          "data": {
            "text/plain": [
              "False"
            ]
          },
          "metadata": {},
          "execution_count": 15
        }
      ]
    },
    {
      "cell_type": "markdown",
      "source": [
        "### Code for Primes upto the number\n"
      ],
      "metadata": {
        "id": "esdNrPLQAAAM"
      }
    },
    {
      "cell_type": "code",
      "source": [
        "def primesupto(m):\n",
        "  pl=[]\n",
        "  for i in range(1,m+1):\n",
        "    if prime(i):\n",
        "      pl.append(i)\n",
        "  return(pl)"
      ],
      "metadata": {
        "id": "L9YnMpnNAFWu"
      },
      "execution_count": 16,
      "outputs": []
    },
    {
      "cell_type": "code",
      "source": [
        "primesupto(10)"
      ],
      "metadata": {
        "colab": {
          "base_uri": "https://localhost:8080/"
        },
        "id": "CW-2xhwdAXwb",
        "outputId": "313b5669-23c9-4c45-e742-5d14c33b4cb1"
      },
      "execution_count": 21,
      "outputs": [
        {
          "output_type": "execute_result",
          "data": {
            "text/plain": [
              "[2, 3, 5, 7]"
            ]
          },
          "metadata": {},
          "execution_count": 21
        }
      ]
    },
    {
      "cell_type": "markdown",
      "source": [
        "### Code for Firstprimes"
      ],
      "metadata": {
        "id": "gm6EooqHBHUA"
      }
    },
    {
      "cell_type": "code",
      "source": [
        "def firstprime(m):\n",
        "  (count,i,pl)=(0,1,[])\n",
        "  while(count<m):\n",
        "    if prime(i):\n",
        "      (count,pl)=(count+1,pl+[i])\n",
        "    i=i+1\n",
        "  return(pl)"
      ],
      "metadata": {
        "id": "zEw1UbOpBFkI"
      },
      "execution_count": null,
      "outputs": []
    }
  ]
}